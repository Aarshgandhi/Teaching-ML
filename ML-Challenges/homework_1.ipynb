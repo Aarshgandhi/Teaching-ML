{
  "cells": [
    {
      "cell_type": "markdown",
      "id": "3a2c0707",
      "metadata": {
        "id": "3a2c0707"
      },
      "source": [
        "## Homework"
      ]
    },
    {
      "cell_type": "code",
      "execution_count": null,
      "id": "BxCGcHcxyAwh",
      "metadata": {
        "id": "BxCGcHcxyAwh"
      },
      "outputs": [],
      "source": [
        "import numpy as np"
      ]
    },
    {
      "cell_type": "markdown",
      "id": "byY0Ab4Jww36",
      "metadata": {
        "id": "byY0Ab4Jww36"
      },
      "source": [
        "### Drill (1 балл)"
      ]
    },
    {
      "cell_type": "markdown",
      "id": "g9nrcP5ExLOr",
      "metadata": {
        "id": "g9nrcP5ExLOr"
      },
      "source": [
        "Task 1.\n",
        "\n",
        "Initialize the arrays of the following forms with zeros\n",
        "\n",
        "* (5)\n",
        "* (5, 1)\n",
        "* (10, 2)\n",
        "* (3, 6, 2)\n",
        "* (4, 3, 2, 1)"
      ]
    },
    {
      "cell_type": "code",
      "source": [
        ""
      ],
      "metadata": {
        "id": "B8UweXqZ7eb-"
      },
      "id": "B8UweXqZ7eb-",
      "execution_count": null,
      "outputs": []
    },
    {
      "cell_type": "code",
      "source": [
        ""
      ],
      "metadata": {
        "id": "5lNGAfdz7eRm"
      },
      "id": "5lNGAfdz7eRm",
      "execution_count": null,
      "outputs": []
    },
    {
      "cell_type": "markdown",
      "id": "nB5ePY6S5AWx",
      "metadata": {
        "id": "nB5ePY6S5AWx"
      },
      "source": [
        "Task 2.\n",
        "\n",
        "Initialize arrays of the same shapes with ones and render them to an integer form:"
      ]
    },
    {
      "cell_type": "code",
      "execution_count": null,
      "id": "bW7_oEBw5Ga8",
      "metadata": {
        "id": "bW7_oEBw5Ga8"
      },
      "outputs": [],
      "source": [
        ""
      ]
    },
    {
      "cell_type": "markdown",
      "id": "_S7FJFXexb3o",
      "metadata": {
        "id": "_S7FJFXexb3o"
      },
      "source": [
        "Task 3.\n",
        "\n",
        "Execute on the vectors above 'reshape' to 'form'\n",
        "* with two components\n",
        "* with three components\n",
        "* with four components"
      ]
    },
    {
      "cell_type": "code",
      "source": [
        ""
      ],
      "metadata": {
        "id": "j27PGEc17396"
      },
      "id": "j27PGEc17396",
      "execution_count": null,
      "outputs": []
    },
    {
      "cell_type": "markdown",
      "id": "Kp3SvzHyxyPp",
      "metadata": {
        "id": "Kp3SvzHyxyPp"
      },
      "source": [
        "Task 4.\n",
        "\n",
        "For the vector below, calculate it\n",
        "* Maximum 1 axis\n",
        "* Minimum 0 axis\n",
        "* Sum in all axes\n",
        "* Average on 0 axis\n",
        "* Median 1 axis"
      ]
    },
    {
      "cell_type": "code",
      "execution_count": null,
      "id": "5GcaTzGPx9Tk",
      "metadata": {
        "id": "5GcaTzGPx9Tk"
      },
      "outputs": [],
      "source": [
        "v = np.random.randint(0, 9, size=(5, 7))"
      ]
    },
    {
      "cell_type": "code",
      "source": [
        ""
      ],
      "metadata": {
        "id": "vUtBVwG58A4S"
      },
      "id": "vUtBVwG58A4S",
      "execution_count": null,
      "outputs": []
    },
    {
      "cell_type": "code",
      "source": [
        ""
      ],
      "metadata": {
        "id": "AfBUGxs38A0K"
      },
      "id": "AfBUGxs38A0K",
      "execution_count": null,
      "outputs": []
    },
    {
      "cell_type": "code",
      "source": [
        ""
      ],
      "metadata": {
        "id": "Y5bOA5268Awi"
      },
      "id": "Y5bOA5268Awi",
      "execution_count": null,
      "outputs": []
    },
    {
      "cell_type": "markdown",
      "id": "EiVqZFtpyOHm",
      "metadata": {
        "id": "EiVqZFtpyOHm"
      },
      "source": [
        "Task 5.\n",
        "\n",
        "For the same vector 'v' derive\n",
        "* Its shape\n",
        "* 0 component of its 'shape'\n",
        "* 1 component of its 'shape'"
      ]
    },
    {
      "cell_type": "code",
      "source": [
        ""
      ],
      "metadata": {
        "id": "erPBnY1O8dPC"
      },
      "id": "erPBnY1O8dPC",
      "execution_count": null,
      "outputs": []
    },
    {
      "cell_type": "code",
      "source": [
        ""
      ],
      "metadata": {
        "id": "NaUQFYxk8dFW"
      },
      "id": "NaUQFYxk8dFW",
      "execution_count": null,
      "outputs": []
    },
    {
      "cell_type": "markdown",
      "id": "9bdU9sq1ygiF",
      "metadata": {
        "id": "9bdU9sq1ygiF"
      },
      "source": [
        "Task 6.\n",
        "\n",
        "For the same vector, derive\n",
        "* All numbers greater than 5\n",
        "* All numbers less than 7 in reverse order\n",
        "* All numbers greater than 3, which are divided by 4 without residue\n",
        "* All numbers whose remainder from dividing by 5 is 3\n",
        "* Maximum index\n",
        "* Minimum index\n",
        "* List with indexes of the elements of the sorted array in the original (unsorted)"
      ]
    },
    {
      "cell_type": "code",
      "source": [
        ""
      ],
      "metadata": {
        "id": "zyG7jPXr8j-x"
      },
      "id": "zyG7jPXr8j-x",
      "execution_count": null,
      "outputs": []
    },
    {
      "cell_type": "markdown",
      "id": "pd7gVNl9zN-s",
      "metadata": {
        "id": "pd7gVNl9zN-s"
      },
      "source": [
        "Task 7.\n",
        "\n",
        "Perform the following operations on the vector (independently, it is not necessary to do this in sequence):\n",
        "* Multiply it by 3\n",
        "* Divide by 7\n",
        "* Elevate to the degree of $frac{2}{3}$\n",
        "* Count $sin$ from it\n",
        "* Count $log$ from it"
      ]
    },
    {
      "cell_type": "code",
      "source": [
        ""
      ],
      "metadata": {
        "id": "cVcWVkYJ8qpx"
      },
      "id": "cVcWVkYJ8qpx",
      "execution_count": null,
      "outputs": []
    },
    {
      "cell_type": "markdown",
      "id": "Njvzyat9w9Jw",
      "metadata": {
        "id": "Njvzyat9w9Jw"
      },
      "source": [
        "### Different initializations + indexing (3 points)"
      ]
    },
    {
      "cell_type": "markdown",
      "id": "IXB2M-hrB1C5",
      "metadata": {
        "id": "IXB2M-hrB1C5"
      },
      "source": [
        "Task 8.\n",
        "\n",
        "Build a square of $3 \\times 3$ from odd numbers"
      ]
    },
    {
      "cell_type": "code",
      "source": [
        ""
      ],
      "metadata": {
        "id": "76yrPH6q842y"
      },
      "id": "76yrPH6q842y",
      "execution_count": null,
      "outputs": []
    },
    {
      "cell_type": "markdown",
      "id": "HmlcbwtOB5OT",
      "metadata": {
        "id": "HmlcbwtOB5OT"
      },
      "source": [
        "Task 9.\n",
        "\n",
        "Construct a square of $4 \\times 4$ from even numbers in reverse order"
      ]
    },
    {
      "cell_type": "code",
      "source": [
        ""
      ],
      "metadata": {
        "id": "oXCpC2Rv88tS"
      },
      "id": "oXCpC2Rv88tS",
      "execution_count": null,
      "outputs": []
    },
    {
      "cell_type": "markdown",
      "id": "IeOvIqrFB8zI",
      "metadata": {
        "id": "IeOvIqrFB8zI"
      },
      "source": [
        "Task 10.\n",
        "\n",
        "Build a grid of coordinates $11 \\times 11$ with a dot $(0.0)$ in the center and a step of $0.1$ between the cells"
      ]
    },
    {
      "cell_type": "code",
      "source": [
        ""
      ],
      "metadata": {
        "id": "s2wBq1It9Hgr"
      },
      "id": "s2wBq1It9Hgr",
      "execution_count": null,
      "outputs": []
    },
    {
      "cell_type": "markdown",
      "id": "BQD_BNN-CqCm",
      "metadata": {
        "id": "BQD_BNN-CqCm"
      },
      "source": [
        "Task 11.\n",
        "\n",
        "Tiling a mesh of $8\\times8$ with $0$ and $1$ in a staggered manner, a cage with an index of $(0.0)$ is paved with $1$"
      ]
    },
    {
      "cell_type": "code",
      "source": [
        ""
      ],
      "metadata": {
        "id": "TjaC8zDJ9XLz"
      },
      "id": "TjaC8zDJ9XLz",
      "execution_count": null,
      "outputs": []
    },
    {
      "cell_type": "markdown",
      "id": "xeL6jav0w0U-",
      "metadata": {
        "id": "xeL6jav0w0U-"
      },
      "source": [
        "### Operations + aggregations (3 points)"
      ]
    },
    {
      "cell_type": "markdown",
      "id": "vOPIAFopHUKs",
      "metadata": {
        "id": "vOPIAFopHUKs"
      },
      "source": [
        "Task 16.\n",
        "\n",
        "A sample of ${X_i}$ of some random variable $X$ is given, it is necessary to estimate\n",
        "* Expected $E[X] = \\frac{1}{N}\\sum_{i=1}^N X_i$ of this random variable\n",
        "* Variance $D[X] = \\frac{1}{N}\\sum_{i=1}^N (X_i - E[X])^2$ of this random variable"
      ]
    },
    {
      "cell_type": "code",
      "execution_count": null,
      "id": "uHQ-DiR4JB0p",
      "metadata": {
        "id": "uHQ-DiR4JB0p"
      },
      "outputs": [],
      "source": [
        "def expected_value(x):\n",
        "    assert len(x) > 0\n",
        "    return #\n",
        "\n",
        "\n",
        "def dispersion(x):\n",
        "    assert len(x) > 0\n",
        "    return #"
      ]
    },
    {
      "cell_type": "code",
      "execution_count": null,
      "id": "XVFo8hitHSav",
      "metadata": {
        "id": "XVFo8hitHSav"
      },
      "outputs": [],
      "source": [
        "def expected_value_np(x):\n",
        "    return np.mean(x)"
      ]
    },
    {
      "cell_type": "code",
      "execution_count": null,
      "id": "f2jCC5EjJkl0",
      "metadata": {
        "id": "f2jCC5EjJkl0"
      },
      "outputs": [],
      "source": [
        "def dispersion_np(x):\n",
        "    return np.var(x)"
      ]
    },
    {
      "cell_type": "code",
      "execution_count": null,
      "id": "dEGp_cuFJoX9",
      "metadata": {
        "id": "dEGp_cuFJoX9"
      },
      "outputs": [],
      "source": [
        "np.testing.assert_array_equal(expected_value([1]), expected_value_np(np.array([1])))\n",
        "np.testing.assert_array_equal(expected_value([3, 4]), expected_value_np(np.array([3, 4])))\n",
        "np.testing.assert_array_equal(expected_value([-1, 0, 1]), expected_value_np(np.array([-1, 0, 1])))\n",
        "np.testing.assert_array_equal(expected_value([-99, -98]), expected_value_np(np.array([-99, -98])))\n",
        "\n",
        "np.testing.assert_array_equal(dispersion([1]), dispersion_np(np.array([1])))\n",
        "np.testing.assert_array_equal(dispersion([3, 4]), dispersion_np(np.array([3, 4])))\n",
        "np.testing.assert_array_equal(dispersion([-1, 0, 1]), dispersion_np(np.array([-1, 0, 1])))\n",
        "np.testing.assert_array_equal(dispersion([-99, -98]), dispersion_np(np.array([-99, -98])))"
      ]
    },
    {
      "cell_type": "markdown",
      "id": "QzL-JrqmxD8s",
      "metadata": {
        "id": "QzL-JrqmxD8s"
      },
      "source": [
        "### Different actions with matrices (3 points)"
      ]
    },
    {
      "cell_type": "markdown",
      "id": "8cRkht0DTyJm",
      "metadata": {
        "id": "8cRkht0DTyJm"
      },
      "source": [
        "Task 21.\n",
        "\n",
        "A matrix of size $(32, 3, 16, 16)$ filled with random numbers from 0 to 9 is given. Use **exactly two** transformations to make it look like $(32, 1)$. When you run a task, you can create auxiliary matrices!"
      ]
    },
    {
      "cell_type": "code",
      "execution_count": null,
      "id": "XiBftUkYUJHx",
      "metadata": {
        "id": "XiBftUkYUJHx"
      },
      "outputs": [],
      "source": [
        "data = np.random.randint(0, 10, size=(32, 3, 16, 16))\n",
        "print(data.shape)"
      ]
    },
    {
      "cell_type": "markdown",
      "id": "BlZrnx1TU3Oe",
      "metadata": {
        "id": "BlZrnx1TU3Oe"
      },
      "source": [
        "Task 22.\n",
        "\n",
        "There are two matrices $m_1$ in size $(32, 256)$ and $m_2$ in size $(32, 512)$, as well as two auxiliary matrices $W_1$ in size $(256, 32)$ and $W_2$ in size $(512, 16)$. Using the **all** data of the matrix, make the output **exactly one** matrix of size $(32, 32)$"
      ]
    },
    {
      "cell_type": "code",
      "execution_count": null,
      "id": "XiQOLjOgxENb",
      "metadata": {
        "id": "XiQOLjOgxENb"
      },
      "outputs": [],
      "source": [
        "m1 = np.random.randint(0, 10, size=(32, 256))\n",
        "m2 = np.random.randint(0, 10, size=(32, 512))\n",
        "W1 = np.random.randint(0, 10, size=(256, 32))\n",
        "W2 = np.random.randint(0, 10, size=(512, 16))\n",
        "\n",
        "a=np.dot(m1.T,m2)\n",
        "b=np.dot(a.T,W1)\n",
        "c=np.dot(b.T,W2)\n",
        "d=np.dot(m2,W2)\n",
        "e=np.dot(c,d.T)\n",
        "result = e\n",
        "\n",
        "assert result.shape == (32, 32)"
      ]
    }
  ],
  "metadata": {
    "colab": {
      "collapsed_sections": [],
      "name": "homework_1.ipynb",
      "provenance": []
    },
    "kernelspec": {
      "display_name": "Python 3",
      "language": "python",
      "name": "python3"
    },
    "language_info": {
      "codemirror_mode": {
        "name": "ipython",
        "version": 3
      },
      "file_extension": ".py",
      "mimetype": "text/x-python",
      "name": "python",
      "nbconvert_exporter": "python",
      "pygments_lexer": "ipython3",
      "version": "3.10.1"
    }
  },
  "nbformat": 4,
  "nbformat_minor": 5
}